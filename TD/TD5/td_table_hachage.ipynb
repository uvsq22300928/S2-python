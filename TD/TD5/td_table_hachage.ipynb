{
 "cells": [
  {
   "cell_type": "markdown",
   "metadata": {
    "deletable": false,
    "editable": false,
    "run_control": {
     "frozen": true
    }
   },
   "source": [
    "# TD : Tables de hachage"
   ]
  },
  {
   "cell_type": "markdown",
   "metadata": {
    "deletable": false,
    "editable": false,
    "run_control": {
     "frozen": true
    }
   },
   "source": [
    "## Exercice 1 : Opérations de base dans une 1ère table de hachage "
   ]
  },
  {
   "cell_type": "markdown",
   "metadata": {
    "deletable": false,
    "editable": false,
    "run_control": {
     "frozen": true
    }
   },
   "source": [
    "On utilise comme table de hachage un tableau de 10 cases où la case d'indice `i` contient l'ensemble des nombres terminant par le chiffre `i`."
   ]
  },
  {
   "cell_type": "markdown",
   "metadata": {
    "deletable": false,
    "editable": false,
    "run_control": {
     "frozen": true
    }
   },
   "source": [
    "### Question 1  :  La recherche\n",
    "\n",
    "- Définir une fonction `rechercher` qui prend en paramètre une table de hachage et un entier et renvoie `True` si l'entier est dans la table, et `False` sinon. "
   ]
  },
  {
   "cell_type": "code",
   "execution_count": 68,
   "metadata": {
    "tags": [
     "answer"
    ]
   },
   "outputs": [
    {
     "name": "stdout",
     "output_type": "stream",
     "text": [
      "False\n",
      "[[], [], [], [], [], [5], [], [], [], []]\n",
      "[[], [], [], [], [], [], [], [], [], []]\n"
     ]
    }
   ],
   "source": [
    "def hachage(string):\n",
    "    nombre = 0\n",
    "    for char in string:\n",
    "        nombre += ord(char)\n",
    "    return nombre\n",
    "\n",
    "table = [\n",
    "    [],\n",
    "    [],\n",
    "    [],\n",
    "    [],\n",
    "    [],\n",
    "    [],\n",
    "    [],\n",
    "    [],\n",
    "    [],\n",
    "    []\n",
    "]\n",
    "\n",
    "def rechercher(table, n):\n",
    "    indice = n % 10\n",
    "    for nombre in table[indice]:\n",
    "        if str(nombre)[-1] == str(n)[-1]:\n",
    "            return True\n",
    "    return False\n",
    "\n",
    "print(rechercher(table, 11))\n",
    "\n",
    "def ajouter(table, n):\n",
    "    indice = n % 10\n",
    "    if not rechercher(table, n):\n",
    "        table[indice].append(n)\n",
    "    else:\n",
    "        print(\"déjà présent\")\n",
    "\n",
    "ajouter(table, 5)\n",
    "print(table)\n",
    "\n",
    "def supprimer(table, n):\n",
    "    indice = n % 10\n",
    "    if rechercher(table, n):\n",
    "        table[indice].remove(n)\n",
    "\n",
    "supprimer(table, 5)\n",
    "print(table)\n"
   ]
  },
  {
   "cell_type": "markdown",
   "metadata": {
    "deletable": false,
    "editable": false,
    "run_control": {
     "frozen": true
    }
   },
   "source": [
    "### Question 2 : L'ajout  \n",
    "\n",
    "- Définir une fonction `ajouter` qui prend en paramètre une table de hachage et un entier et ajoute cet entier dans la table s'il n'existe pas. "
   ]
  },
  {
   "cell_type": "code",
   "execution_count": 91,
   "metadata": {
    "tags": [
     "answer"
    ]
   },
   "outputs": [
    {
     "name": "stdout",
     "output_type": "stream",
     "text": [
      "True\n",
      "[[0], [3321, 1], [12, 59482, 2, 342], [23, 543, 5], [34, 4, 34534], [45, 345], [], [67, 57, 847, 897], [78, 18], [7069]]\n",
      "[[0], [3321, 1], [12, 59482, 2, 342], [23, 543], [34, 4, 34534], [45, 345], [], [67, 57, 847, 897], [78, 18], [7069]]\n"
     ]
    }
   ],
   "source": [
    "def hachage(string):\n",
    "    nombre = 0\n",
    "    for char in string:\n",
    "        nombre += ord(char)\n",
    "    nombre += int(string[-1]) * 1000  # Ajout du dernier chiffre multiplié par 1000 à la somme\n",
    "    return nombre\n",
    "\n",
    "\n",
    "table = [\n",
    "    [0],\n",
    "    [3321, 1],\n",
    "    [12, 59482, 2, 342],\n",
    "    [23, 543],\n",
    "    [34, 4, 34534],\n",
    "    [45, 345],\n",
    "    [],\n",
    "    [67, 57, 847, 897],\n",
    "    [78, 18],\n",
    "    [7069]\n",
    "]\n",
    "\n",
    "def rechercher2(table, value):\n",
    "    for sublist in table:\n",
    "        for number in sublist:\n",
    "            if str(number)[-1] == str(value)[-1]:\n",
    "                return True\n",
    "    return False\n",
    "\n",
    "print(rechercher2(table, 11))\n",
    "\n",
    "def ajouter2(table, value):\n",
    "    indice = hachage(str(value)) % len(table)\n",
    "    for number in table[indice]:\n",
    "        if number == value:\n",
    "            print(\"déjà présent\")\n",
    "            return\n",
    "    table[indice].append(value)\n",
    "\n",
    "ajouter2(table, 5)\n",
    "print(table)\n",
    "\n",
    "def supprimer2(table, value):\n",
    "    if rechercher2(table, value):\n",
    "        for sublist in table:\n",
    "            if value in sublist:\n",
    "                sublist.remove(value)\n",
    "\n",
    "supprimer2(table, 5)\n",
    "print(table)\n"
   ]
  },
  {
   "cell_type": "markdown",
   "metadata": {
    "deletable": false,
    "editable": false,
    "run_control": {
     "frozen": true
    }
   },
   "source": [
    "### Question  3  : La suppression\n",
    "\n",
    "- Définir une fonction `supprimer` qui prend en paramètre une table de hachage et un entier et supprime cet entier dans la table s'il est présent.\n",
    "\n",
    "**Remarque :** On utilisera la fonction `L.pop()` qui supprime le dernier élément de la table `L`."
   ]
  },
  {
   "cell_type": "code",
   "execution_count": 93,
   "metadata": {
    "tags": [
     "answer"
    ]
   },
   "outputs": [
    {
     "name": "stdout",
     "output_type": "stream",
     "text": [
      "[[0, 0, 0, 0, 0, 0, 0, 0, 0, 0], [0, 0, 0, 1, 0, 0, 0, 0, 1, 0], [0, 0, 0, 0, 0, 0, 0, 0, 0, 0], [0, 0, 0, 0, 1, 0, 0, 0, 0, 1], [0, 0, 0, 0, 0, 0, 0, 0, 0, 0], [1, 0, 0, 0, 0, 1, 0, 0, 0, 0], [0, 0, 0, 0, 0, 0, 0, 0, 0, 0], [0, 0, 0, 0, 0, 0, 1, 0, 0, 0], [0, 0, 0, 0, 0, 0, 0, 0, 0, 0], [0, 0, 1, 0, 0, 0, 0, 1, 0, 0]]\n"
     ]
    }
   ],
   "source": [
    "def hachage(number):\n",
    "    nombre = 0\n",
    "    for char in str(number):\n",
    "        nombre += ord(char)\n",
    "    return nombre % 10\n",
    "\n",
    "def classify_numbers(numbers):\n",
    "    array_2d = [[0 for _ in range(10)] for _ in range(10)]\n",
    "    for num in numbers:\n",
    "        last_digit = hachage(num)\n",
    "        array_2d[last_digit][num % 10] += 1\n",
    "    return array_2d\n",
    "\n",
    "numbers = [12, 23, 34, 45, 56, 67, 78, 89, 90]\n",
    "print(classify_numbers(numbers))"
   ]
  },
  {
   "cell_type": "markdown",
   "metadata": {
    "deletable": false,
    "editable": false,
    "run_control": {
     "frozen": true
    }
   },
   "source": [
    "## Exercice 2 : Opérations de base dans une 2ème table de hachage "
   ]
  },
  {
   "cell_type": "markdown",
   "metadata": {
    "deletable": false,
    "editable": false,
    "run_control": {
     "frozen": true
    }
   },
   "source": [
    "### Question 1 : La recherche \n",
    "\n",
    "- Définir une fonction `rechercher2` qui prend en paramètre une table de hachage et une valeur et renvoie `True` si la valeur est dans la table, et `False` sinon. On ne fait pas d'hypothèse sur le nombre de cases de la table. La fonction de hachage est celle définie en cours.\n",
    "\n",
    "**Remarque :** Si la valeur que l'on veut stocker dans la table est entière, il suffit de transformer l'entier en une chaîne de caractères avec `str(entier)`."
   ]
  },
  {
   "cell_type": "code",
   "execution_count": 73,
   "metadata": {
    "tags": [
     "removeFromLatex"
    ]
   },
   "outputs": [],
   "source": [
    "# Fonction de hachage définie en cours\n",
    "def hachage(str):\n",
    "    nombre = 0\n",
    "    i = 0\n",
    "    while i < len(str):\n",
    "        nombre += ord(str[i])\n",
    "        i += 1\n",
    "    return nombre\n"
   ]
  },
  {
   "cell_type": "code",
   "execution_count": null,
   "metadata": {
    "tags": [
     "answer"
    ]
   },
   "outputs": [],
   "source": [
    "############################## \n",
    "#   Saisir votre code ici.   #\n",
    "##############################\n",
    "\n",
    "\n"
   ]
  },
  {
   "cell_type": "markdown",
   "metadata": {
    "deletable": false,
    "editable": false,
    "run_control": {
     "frozen": true
    }
   },
   "source": [
    "### Question 2 : L'ajout \n",
    "\n",
    "- Définir une fonction `ajouter2` qui prend en paramètre une table de hachage et une valeur et ajoute cette valeur dans la table si elle n'existe pas.  On ne fait pas d'hypothèse sur le nombre de cases de la table. La fonction de hachage est celle définie en cours."
   ]
  },
  {
   "cell_type": "code",
   "execution_count": null,
   "metadata": {
    "tags": [
     "answer"
    ]
   },
   "outputs": [],
   "source": [
    "############################## \n",
    "#   Saisir votre code ici.   #\n",
    "##############################\n",
    "\n",
    "\n"
   ]
  },
  {
   "cell_type": "markdown",
   "metadata": {
    "deletable": false,
    "editable": false,
    "run_control": {
     "frozen": true
    }
   },
   "source": [
    "### Question 3 : La suppression  \n",
    "- Définir une fonction `supprimer2` qui prend en paramètre une table de hachage et un entier et supprime cet entier dans la table s'il existe. \n",
    "\n",
    "On ne fait pas d'hypothèse sur le nombre de cases de la table. La fonction de hachage est celle définie en cours.\n",
    "\n",
    "**Remarque :** on utilisera la fonction `L.pop()` qui supprime le dernier élément de la table `L`."
   ]
  },
  {
   "cell_type": "code",
   "execution_count": null,
   "metadata": {
    "tags": [
     "answer"
    ]
   },
   "outputs": [],
   "source": [
    "############################## \n",
    "#   Saisir votre code ici.   #\n",
    "##############################\n",
    "\n",
    "\n"
   ]
  },
  {
   "cell_type": "markdown",
   "metadata": {
    "deletable": false,
    "editable": false,
    "run_control": {
     "frozen": true
    }
   },
   "source": [
    "## Exercice 3 : Hachage fermé (ou à adressage ouvert)\n",
    "\n",
    "\n",
    "Dans cet exercice, on suppose que l'on stocke dans les cases de la table de hachage des valeurs et non des tableaux de valeurs (on peut donc mettre au plus une valeur dans chaque case de la table). Il faut alors une méthode pour gérer les *collisions* (cas où plusieurs éléments à stocker ont la même valeur de hachage).\n",
    "\n",
    "Lorque l'on essaie d'insérer un nouvel est élément et que la case où on veut le mettre est déjà occupée, il faut essayer de le placer dans une autre case, et ainsi de suite jusqu'à en trouver une libre. On dit alors que l'on *sonde* la table pour trouver une case libre. Dans ces conditions, la fonction de hachage prend un argument supplémentaire qui compte le nombre de tentatives infructueuses pour trouver une case libre.\n",
    "\n",
    "### Question 1 : Sondage linéaire \n",
    "\n",
    "Dans le cas du *sondage linéaire*, on avance dans le tableau d'un nombre fixe de cases (souvent une case) à chaque fois jusqu'à trouver une case vide. Si le pas est un, la fonction de hachage s'écrit $h(k,i)= h_1(k)+i$ où $h_1$ est un fonction de hachage simple et $i$ est le nombre de tentatives pour trouver une case vide.\n",
    "\n",
    "- Éxécuter à la main l'algorithme d'insertion dans une table de taille `m=9` des  valeurs 5, 28, 19, 15, 20, 33, 12, 17 en utilsant la fonction $h_1(k)=k \\mod 9$.\n",
    "- Écrire les fonctions permettant d'insérer et de rechercher une valeur dans une table de hachage de taille `m` avec la fonction de hachage à sondage linéaire qui vient d'être décrite. \n",
    "- Que se passe-t-il si l'on supprime des valeurs dans la table ? Comment peut-on résoudre ce problème ?"
   ]
  },
  {
   "cell_type": "markdown",
   "metadata": {
    "deletable": false,
    "run_control": {
     "frozen": false
    },
    "tags": [
     "answer"
    ]
   },
   "source": [
    "**Réponse :** Écrire votre réponse ici.\n",
    "\n",
    "\n"
   ]
  },
  {
   "cell_type": "code",
   "execution_count": 55,
   "metadata": {
    "tags": [
     "answer"
    ]
   },
   "outputs": [
    {
     "name": "stdout",
     "output_type": "stream",
     "text": [
      "5\n"
     ]
    }
   ],
   "source": [
    "############################## \n",
    "#   Saisir votre code ici.   #\n",
    "##############################\n",
    "def hachage(string):\n",
    "    nombre = 0\n",
    "    for char in string:\n",
    "        nombre += ord(char)\n",
    "    return nombre\n",
    "\n",
    "def inserer_hachage_ferme(table, valeur):\n",
    "    indice = hachage(str(valeur)) % len(table)\n",
    "    if not table[indice]:\n",
    "        table[indice] = valeur\n",
    "    else:\n",
    "        i = 1\n",
    "        while table[(indice + i) % len(table)]:\n",
    "            i += 1\n",
    "        table[(indice + i) % len(table)] = valeur\n",
    "\n",
    "def rechercher_hachage_ferme(table, valeur):\n",
    "    indice = hachage(str(valeur)) % len(table)\n",
    "    i = 0\n",
    "    while table[(indice + i) % len(table)] != valeur:\n",
    "        if not table[(indice + i) % len(table)]:\n",
    "            return False\n",
    "        i += 1\n",
    "    return True\n",
    "\n",
    "def supprimer_hachage_ferme(table, valeur):\n",
    "    indice = hachage(str(valeur)) % len(table)\n",
    "    i = 0\n",
    "    while table[(indice + i) % len(table)] != valeur:\n",
    "        if not table[(indice + i) % len(table)]:\n",
    "            return\n",
    "        i += 1\n",
    "    table[(indice + i) % len(table)] = None\n",
    "    # Réorganisation pour combler les vides\n",
    "    j = 1\n",
    "    while table[(indice + i + j) % len(table)]:\n",
    "        table[(indice + i) % len(table)] = table[(indice + i + j) % len(table)]\n",
    "        table[(indice + i + j) % len(table)] = None\n",
    "        i += 1\n",
    "        j += 1\n",
    "\n",
    "# Exemple d'utilisation\n",
    "table_hachage_ferme = [None] * 10  # Création d'une table de hachage fermée de taille 10\n",
    "\n",
    "# Insertion\n",
    "inserer_hachage_ferme(table_hachage_ferme, 123)\n",
    "inserer_hachage_ferme(table_hachage_ferme, 456)\n",
    "inserer_hachage_ferme(table_hachage_ferme, 789)\n",
    "\n",
    "print(table_hachage_ferme)\n",
    "\n",
    "# Recherche\n",
    "print(rechercher_hachage_ferme(table_hachage_ferme, 123))  # True\n",
    "print(rechercher_hachage_ferme(table_hachage_ferme, 999))  # False\n",
    "\n",
    "# Suppression\n",
    "supprimer_hachage_ferme(table_hachage_ferme, 123)\n",
    "print(table_hachage_ferme)\n",
    "\n",
    "\n"
   ]
  },
  {
   "cell_type": "markdown",
   "metadata": {
    "deletable": false,
    "run_control": {
     "frozen": false
    },
    "tags": [
     "answer"
    ]
   },
   "source": [
    "**Réponse :** Écrire votre réponse ici.\n",
    "\n",
    "\n"
   ]
  },
  {
   "cell_type": "markdown",
   "metadata": {
    "deletable": false,
    "editable": false,
    "run_control": {
     "frozen": true
    }
   },
   "source": [
    "### Question 2 : Double hachage\n",
    "\n",
    "Le sondage linéaire présente un gros inconvénient. Même si la fonction de hachage répartit les clés uniformément dans la table, la résolution des collisions a tendance à former des \"paquets\" de valeurs ce qui conduit à rapidement augmenter le nombre de recherches infructueuses.\n",
    "\n",
    "Une solution pour résoudre le problème des \"paquets\" est de modifier la méthode de sondage pour que les cases sondées soient éloignées de manière variable. Le double hachage est l'une des meilleurs méthodes connues pour cela. Il utilise une fonction de hachage de la forme $h(k,i)=h_1(k)+ih_2(k) \\mod m$ où $h_1$  et $h_2$ sont des  fonctions de hachage auxiliaires simples.\n",
    "\n",
    "- Insérer les valeurs de la Question 1 dans une table de taille $m=13$ en utilisant un double hachage où $h_1(k)= k \\mod 13$ et $h_2(k)=1+ (k \\mod 12).$ \n",
    "- Que se passe-t-il si $h_2(k)$ et $m$ ne sont pas premiers entre eux ? En quoi est-ce gênant ?  Comment y remédier ? "
   ]
  },
  {
   "cell_type": "markdown",
   "metadata": {
    "deletable": false,
    "run_control": {
     "frozen": false
    },
    "tags": [
     "answer"
    ]
   },
   "source": [
    "**Réponse :** Écrire votre réponse ici.\n",
    "\n",
    "\n"
   ]
  }
 ],
 "metadata": {
  "celltoolbar": "Éditer les Méta-Données",
  "kernelspec": {
   "display_name": "Python 3",
   "language": "python",
   "name": "python3"
  },
  "language_info": {
   "codemirror_mode": {
    "name": "ipython",
    "version": 3
   },
   "file_extension": ".py",
   "mimetype": "text/x-python",
   "name": "python",
   "nbconvert_exporter": "python",
   "pygments_lexer": "ipython3",
   "version": "3.11.4"
  },
  "toc": {
   "base_numbering": 1,
   "nav_menu": {},
   "number_sections": false,
   "sideBar": false,
   "skip_h1_title": false,
   "title_cell": "Table of Contents",
   "title_sidebar": "Contents",
   "toc_cell": false,
   "toc_position": {},
   "toc_section_display": false,
   "toc_window_display": false
  }
 },
 "nbformat": 4,
 "nbformat_minor": 5
}
