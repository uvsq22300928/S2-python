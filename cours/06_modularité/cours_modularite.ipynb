{
 "cells": [
  {
   "cell_type": "markdown",
   "metadata": {
    "deletable": false,
    "run_control": {
     "frozen": true
    },
    "slideshow": {
     "slide_type": "slide"
    }
   },
   "source": [
    "# Cours : Modularité en Python"
   ]
  },
  {
   "cell_type": "markdown",
   "metadata": {
    "deletable": false,
    "run_control": {
     "frozen": true
    },
    "slideshow": {
     "slide_type": "subslide"
    }
   },
   "source": [
    "Les modules et packages permettent de découper un programme sur plusieurs fichiers et de regrouper ceux-ci de manière logique. C'est indispensable \n",
    "lorsque l'on travaille sur des projets longs et à plusieurs. "
   ]
  },
  {
   "cell_type": "markdown",
   "metadata": {
    "deletable": false,
    "run_control": {
     "frozen": true
    },
    "slideshow": {
     "slide_type": "slide"
    }
   },
   "source": [
    "## Python en dehors des notebooks"
   ]
  },
  {
   "cell_type": "markdown",
   "metadata": {
    "deletable": false,
    "run_control": {
     "frozen": true
    },
    "slideshow": {
     "slide_type": "subslide"
    }
   },
   "source": [
    "Il est possible d'exécuter du code Python en dehors des notebooks."
   ]
  },
  {
   "cell_type": "markdown",
   "metadata": {
    "deletable": false,
    "run_control": {
     "frozen": true
    },
    "slideshow": {
     "slide_type": "subslide"
    }
   },
   "source": [
    "### Python interactif"
   ]
  },
  {
   "cell_type": "markdown",
   "metadata": {
    "deletable": false,
    "run_control": {
     "frozen": true
    },
    "slideshow": {
     "slide_type": "subslide"
    }
   },
   "source": [
    "Lancer dans un terminal la commande `python` transforme le terminal en une console python interactive. Il est possible de saisir des instructions Python. À chaque instruction saisie, celle-ci est exécutée."
   ]
  },
  {
   "cell_type": "markdown",
   "metadata": {
    "deletable": false,
    "run_control": {
     "frozen": true
    },
    "slideshow": {
     "slide_type": "slide"
    }
   },
   "source": [
    "### Fichiers de code Python"
   ]
  },
  {
   "cell_type": "markdown",
   "metadata": {
    "deletable": false,
    "run_control": {
     "frozen": true
    },
    "slideshow": {
     "slide_type": "subslide"
    }
   },
   "source": [
    "Il est possible d'écrire du code Python dans des fichiers que l'on peut exécuter ensuite dans un terminal. \n",
    "Pour écrire du code Python dans un fichier, il faut utiliser un éditeur de texte tel que `gedit`, `atom` ou `vscode` (**pas open office**).\n",
    "\n",
    "Pour exécuter le fichier contenant le code Python, il faut taper la commande  dans le terminal : \n",
    "```bash\n",
    "python nom_du_fichier_python\n",
    "```\n"
   ]
  },
  {
   "cell_type": "markdown",
   "metadata": {
    "slideshow": {
     "slide_type": "subslide"
    }
   },
   "source": [
    "**Remarques :**\n",
    "* les fichiers de code Python ont généralement l'extension .py\n",
    "* Pour qu'il n'y ait pas de problème d'accents, il faut que le fichier soit encodé en utf-8.\n",
    "* Si le fichier de code Python commence par la ligne\n",
    "```python\n",
    "#!/usr/bin/env python\n",
    "```\n",
    "et qu'il est exécutable (dans le terminal, taper `chmod +x nom_du_fichier_python` pour le rendre exécutable), il est possible de lancer le script python en tapant :\n",
    "```bash\n",
    "./nom_du_fichier_python\n",
    "```"
   ]
  },
  {
   "cell_type": "markdown",
   "metadata": {
    "deletable": false,
    "run_control": {
     "frozen": true
    },
    "slideshow": {
     "slide_type": "slide"
    }
   },
   "source": [
    "## Modules"
   ]
  },
  {
   "cell_type": "markdown",
   "metadata": {
    "deletable": false,
    "run_control": {
     "frozen": true
    },
    "slideshow": {
     "slide_type": "subslide"
    }
   },
   "source": [
    "Un module est un fichier contenant du code Python, généralement des définitions de fonctions, qui peut par la suite être inclus dans un autre fichier Python. Ce dernier peut alors appeler les fonctions définies dans le module.\n",
    "\n",
    "Le nom de fichier d'un module est le nom du module suffixé de .py. Par exemple, le module `hello` est défini dans le fichier `hello.py`.\n",
    "\n",
    "**Remarque :** on suppose pour l'instant que le module est dans le même répertoire que le fichier Python qui appelle les fonctions du module.\n",
    "\n",
    "**Remarque :** un module peut bien sûr être importé dans un notebook. Un notebook ne peut en revanche pas être utilisé comme module. Il est toutefois possible de sauvegarder un notebook au format python (fichier .py) en cliquant sur Fichier -> Télécharger au format -> Python. Les cellules de texte (markdown) deviennent alors des commentaires."
   ]
  },
  {
   "cell_type": "markdown",
   "metadata": {
    "deletable": false,
    "run_control": {
     "frozen": true
    },
    "slideshow": {
     "slide_type": "slide"
    }
   },
   "source": [
    "### Importer un module"
   ]
  },
  {
   "cell_type": "markdown",
   "metadata": {
    "deletable": false,
    "run_control": {
     "frozen": true
    },
    "slideshow": {
     "slide_type": "subslide"
    }
   },
   "source": [
    "Pour utiliser les fonctions d'un module, il faut auparavant importer ce module. Il existe deux manières d'importer un module."
   ]
  },
  {
   "cell_type": "markdown",
   "metadata": {
    "deletable": false,
    "run_control": {
     "frozen": true
    },
    "slideshow": {
     "slide_type": "subslide"
    }
   },
   "source": [
    "#### Première méthode\n",
    "\n",
    "On inclut le module avec l'instruction :\n",
    "```python\n",
    "import module\n",
    "```\n",
    "On appelle une fonction `fonction` définie dans le module avec l'instruction :\n",
    "```python\n",
    "module.fonction(val1, val2, ..., valk) \n",
    "# val1, val2, ..., valk sont les valeurs des paramètres lors de l'appel\n",
    "```\n",
    "\n"
   ]
  },
  {
   "cell_type": "markdown",
   "metadata": {
    "slideshow": {
     "slide_type": "subslide"
    }
   },
   "source": [
    "**Remarque :** on peut donner un autre nom au module à l'intérieur du script grâce au mot clé `as`. Par exemple : \n",
    "```python\n",
    "import module as nom_module\n",
    "\n",
    "nom_module.fonction(val1, val2, ..., valk) \n",
    "# val1, val2, ..., valk sont les valeurs des paramètres lors de l'appel\n",
    "```\n"
   ]
  },
  {
   "cell_type": "markdown",
   "metadata": {
    "deletable": false,
    "run_control": {
     "frozen": true
    },
    "slideshow": {
     "slide_type": "subslide"
    }
   },
   "source": [
    "#### Deuxième méthode\n",
    "\n",
    "On inclut le module avec l'instruction : \n",
    "```python\n",
    "from module import fonction, autre_fonction # etc\n",
    "```\n",
    "Dans ce cas, on peut appeler les fonctions dont les noms sont écrits après le mot `import` directement dans le code :\n",
    "```python\n",
    "fonction(val1, val2, ..., valk)\n",
    "```\n"
   ]
  },
  {
   "cell_type": "markdown",
   "metadata": {
    "slideshow": {
     "slide_type": "subslide"
    }
   },
   "source": [
    "**Remarque :** seules les fonctions qui sont après le mot clé `import` peuvent être utilisées dans le script.\n",
    "\n",
    "Pour importer toutes les fonctions du module, on peut écrire directement :\n",
    "```python\n",
    "from module import * # importe toutes les fonctions du module\n",
    "```\n",
    "\n",
    "**Attention :** les fonctions importées de cette manière écrasent les fonctions ayant le même nom dans le script. Par exemple, l'instruction \n",
    "```python\n",
    "from os import *\n",
    "``` \n",
    "importe la fonction `open` définie dans le module `os`. On ne peut alors plus utiliser la fonction `open` pour ouvrir des fichiers !"
   ]
  },
  {
   "cell_type": "markdown",
   "metadata": {
    "deletable": false,
    "run_control": {
     "frozen": true
    },
    "slideshow": {
     "slide_type": "slide"
    }
   },
   "source": [
    "#### Exemple\n",
    "\n",
    "Considérons le code suivant : "
   ]
  },
  {
   "cell_type": "code",
   "execution_count": 3,
   "metadata": {
    "slideshow": {
     "slide_type": "fragment"
    }
   },
   "outputs": [],
   "source": [
    "def occurence(s, c):\n",
    "    \"\"\"\n",
    "        Retourne le nombre de fois où le caractère c apparaît dans la chaîne s.\n",
    "    \"\"\"\n",
    "    compteur = 0\n",
    "    i = 0\n",
    "    while i < len(s):\n",
    "        if s[i] == c:\n",
    "            compteur += 1\n",
    "        i += 1\n",
    "    return compteur\n",
    "\n"
   ]
  },
  {
   "cell_type": "code",
   "execution_count": 5,
   "metadata": {
    "slideshow": {
     "slide_type": "subslide"
    }
   },
   "outputs": [
    {
     "name": "stdout",
     "output_type": "stream",
     "text": [
      "Saisir un texte\n",
      "Le texte contient 3 fois la lettre e.\n"
     ]
    }
   ],
   "source": [
    "\n",
    "print(\"Saisir un texte\")\n",
    "texte = input()\n",
    "texte = texte.lower()  # transforme le texte en minuscules\n",
    "\n",
    "nbE = occurence(texte, \"e\")\n",
    "print(\"Le texte contient\", nbE, \"fois la lettre e.\")"
   ]
  },
  {
   "cell_type": "markdown",
   "metadata": {
    "deletable": false,
    "run_control": {
     "frozen": true
    },
    "slideshow": {
     "slide_type": "subslide"
    }
   },
   "source": [
    "Même si ce code est simple, on souhaite découper ce code en deux fichiers : \n",
    "\n",
    "* un module `fonctionChaines.py` qui contiendra la définition de la fonction `occurence` (ce module pourrait également contenir d'autres fonctions relatives aux chaînes de caractères).\n",
    "\n",
    "* un fichier `occurencesTexte.py` qui contiendra la saisie du texte, et l'affichage du nombre d'occurences de la lettre e dans le texte.\n",
    "\n",
    "On crée alors les deux fichiers de la manière suivante."
   ]
  },
  {
   "cell_type": "markdown",
   "metadata": {
    "deletable": false,
    "run_control": {
     "frozen": true
    },
    "slideshow": {
     "slide_type": "subslide"
    }
   },
   "source": [
    "##### Contenu du fichier `fonctionsChaines.py`"
   ]
  },
  {
   "cell_type": "code",
   "execution_count": 6,
   "metadata": {
    "deletable": false,
    "run_control": {
     "frozen": true
    },
    "slideshow": {
     "slide_type": "fragment"
    }
   },
   "outputs": [],
   "source": [
    "def occurence(s, c):\n",
    "    \"\"\"\n",
    "        Retourne le nombre de fois où le caractère c apparaît dans la chaîne s.\n",
    "    \"\"\"\n",
    "    compteur = 0\n",
    "    i = 0\n",
    "    while i < len(s):\n",
    "        if s[i] == c:\n",
    "            compteur += 1\n",
    "        i += 1\n",
    "    return compteur"
   ]
  },
  {
   "cell_type": "markdown",
   "metadata": {
    "deletable": false,
    "run_control": {
     "frozen": true
    },
    "slideshow": {
     "slide_type": "subslide"
    }
   },
   "source": [
    "##### Contenu du fichier `occurenceTexte.py`\n"
   ]
  },
  {
   "cell_type": "code",
   "execution_count": 8,
   "metadata": {
    "deletable": false,
    "run_control": {
     "frozen": true
    },
    "slideshow": {
     "slide_type": "fragment"
    }
   },
   "outputs": [
    {
     "name": "stdout",
     "output_type": "stream",
     "text": [
      "Saisir un texte\n"
     ]
    },
    {
     "name": "stdout",
     "output_type": "stream",
     "text": [
      "Le texte contient 0 fois la lettre e.\n"
     ]
    }
   ],
   "source": [
    "import fonctionsChaines as fch\n",
    "\n",
    "print(\"Saisir un texte\")\n",
    "texte = input()\n",
    "texte = texte.lower()  # transforme le texte en minuscules\n",
    "\n",
    "nbE = fch.occurence(\n",
    "    texte, \"e\")  # fonction occurence du module fonctionsChaines renommé fch\n",
    "print(\"Le texte contient\", nbE, \"fois la lettre e.\")"
   ]
  },
  {
   "cell_type": "markdown",
   "metadata": {
    "deletable": false,
    "run_control": {
     "frozen": true
    },
    "slideshow": {
     "slide_type": "subslide"
    }
   },
   "source": [
    "##### Exécution du programme\n",
    "\n",
    "On exécute le code Python en tapant dans le terminal la commande \n",
    "```\n",
    "python occurenceTexte.py \n",
    "```"
   ]
  },
  {
   "cell_type": "markdown",
   "metadata": {
    "deletable": false,
    "run_control": {
     "frozen": true
    },
    "slideshow": {
     "slide_type": "subslide"
    }
   },
   "source": [
    "## Utiliser des modules comme des scripts\n",
    "\n",
    "Un module est utilisé dans d'autres scripts python. Il est néanmoins possible d'y inclure du code qui ne sera exécuté que si le module est le fichier exécuté (autrement dit, si l'instruction `python nom_du_module` est exécutée).\n",
    "Ceci se fait en utilisant : "
   ]
  },
  {
   "cell_type": "code",
   "execution_count": 9,
   "metadata": {
    "slideshow": {
     "slide_type": "fragment"
    }
   },
   "outputs": [
    {
     "ename": "SyntaxError",
     "evalue": "incomplete input (379092623.py, line 3)",
     "output_type": "error",
     "traceback": [
      "\u001b[1;36m  Cell \u001b[1;32mIn[9], line 3\u001b[1;36m\u001b[0m\n\u001b[1;33m    # directement (pas inclus dans un autre script)\u001b[0m\n\u001b[1;37m                                                   ^\u001b[0m\n\u001b[1;31mSyntaxError\u001b[0m\u001b[1;31m:\u001b[0m incomplete input\n"
     ]
    }
   ],
   "source": [
    "if __name__ == '__main__':\n",
    "    # Code qui sera exécuté uniquement si le module est exécuté \n",
    "    # directement (pas inclus dans un autre script)\n",
    "    pass"
   ]
  },
  {
   "cell_type": "markdown",
   "metadata": {
    "deletable": false,
    "run_control": {
     "frozen": true
    },
    "slideshow": {
     "slide_type": "subslide"
    }
   },
   "source": [
    "Ceci permet notamment d'insérer des tests pour des fonctions définies au sein du module. Ces tests ne seront exécutés que lorsque le script sera exécuté (et pas quand il est utilisé dans d'autres scripts)."
   ]
  },
  {
   "cell_type": "markdown",
   "metadata": {
    "deletable": false,
    "run_control": {
     "frozen": true
    },
    "slideshow": {
     "slide_type": "slide"
    }
   },
   "source": [
    "## Packages en Python"
   ]
  },
  {
   "cell_type": "markdown",
   "metadata": {
    "deletable": false,
    "run_control": {
     "frozen": true
    },
    "slideshow": {
     "slide_type": "subslide"
    }
   },
   "source": [
    "Les packages en Python permettent de regrouper logiquement des modules ensemble. La création de packages est simple puisqu'un package correspond à un répertoire : les fichiers (et répertoires) à l'intérieur correspondent aux modules (et sous-packages) contenus dans le package.\n",
    "\n",
    "**Remarque :** on suppose pour l'instant que le package est dans le même répertoire que le fichier Python ou notebook qui importe le package.\n",
    "\n",
    "\n",
    "Dans un script, pour utiliser un module du package, il faut importer le module grâce à l'instruction :\n",
    "```python\n",
    "import package.module\n",
    "```\n",
    "ou\n",
    "```python\n",
    "from package.module import fonction1, fonction2 # etc\n",
    "```\n"
   ]
  },
  {
   "cell_type": "markdown",
   "metadata": {
    "deletable": false,
    "run_control": {
     "frozen": true
    },
    "slideshow": {
     "slide_type": "subslide"
    }
   },
   "source": [
    "**Remarque :** on peut créer un fichier `__init__.py` à l'intérieur d'un package pour exécuter du code au moment de l'import du package (cela permet également d'indiquer que le répertoire est un package, ce qui est nécessaire si le nom du répertoire correspond à un package de base de Python tel que `string` par exemple). Un tel fichier, même vide, est nécessaire pour les tests unitaires par exemple. **Il est donc recommandé de créer un tel fichier dans chaque package créé**."
   ]
  },
  {
   "cell_type": "markdown",
   "metadata": {
    "deletable": false,
    "run_control": {
     "frozen": true
    },
    "slideshow": {
     "slide_type": "subslide"
    }
   },
   "source": [
    "Par exemple, supposons que le package package `Utils` contient un seul module `words`. \n",
    "Ce module contient une seule fonction `compteMots` :"
   ]
  },
  {
   "cell_type": "code",
   "execution_count": 10,
   "metadata": {
    "slideshow": {
     "slide_type": "subslide"
    }
   },
   "outputs": [],
   "source": [
    "def compteMots(s):\n",
    "    \"\"\"\n",
    "        Retourne le nombre de mots dans une phrase.\n",
    "        (un mot est une séquence non vide de caractères comprise entre deux espaces)\n",
    "    \"\"\"\n",
    "    # split découpe la chaîne selon les espaces et retourne un tableau contenant les différentes parties\n",
    "    return len(s.split())"
   ]
  },
  {
   "cell_type": "markdown",
   "metadata": {
    "deletable": false,
    "run_control": {
     "frozen": true
    },
    "slideshow": {
     "slide_type": "fragment"
    }
   },
   "source": [
    "On a donc un répertoire `Utils` contenant un unique fichier `words.py`. Pour utiliser ce module à travers le package `Utils`, on utilise dans le fichier l'import : `import Utils.words as uw`."
   ]
  },
  {
   "cell_type": "markdown",
   "metadata": {
    "deletable": false,
    "run_control": {
     "frozen": true
    },
    "slideshow": {
     "slide_type": "subslide"
    }
   },
   "source": [
    "Voici un exemple de fichier appelant le module `fonctionsChaines` et le module `words` du package `Utils` :\n"
   ]
  },
  {
   "cell_type": "code",
   "execution_count": 3,
   "metadata": {
    "slideshow": {
     "slide_type": "fragment"
    }
   },
   "outputs": [
    {
     "name": "stdout",
     "output_type": "stream",
     "text": [
      "saisir un texte \n"
     ]
    },
    {
     "ename": "AttributeError",
     "evalue": "module 'Utils.words' has no attribute 'compteMots'",
     "output_type": "error",
     "traceback": [
      "\u001b[1;31m---------------------------------------------------------------------------\u001b[0m",
      "\u001b[1;31mAttributeError\u001b[0m                            Traceback (most recent call last)",
      "Cell \u001b[1;32mIn[3], line 8\u001b[0m\n\u001b[0;32m      6\u001b[0m texte \u001b[38;5;241m=\u001b[39m \u001b[38;5;28minput\u001b[39m()\n\u001b[0;32m      7\u001b[0m nbE \u001b[38;5;241m=\u001b[39m fch\u001b[38;5;241m.\u001b[39moccurence(texte, \u001b[38;5;124m\"\u001b[39m\u001b[38;5;124me\u001b[39m\u001b[38;5;124m\"\u001b[39m)\n\u001b[1;32m----> 8\u001b[0m nbMots \u001b[38;5;241m=\u001b[39m uw\u001b[38;5;241m.\u001b[39mcompteMots(texte)\n\u001b[0;32m      9\u001b[0m \u001b[38;5;28mprint\u001b[39m(\u001b[38;5;124m\"\u001b[39m\u001b[38;5;124mLe texte saisi contient\u001b[39m\u001b[38;5;124m\"\u001b[39m, nbE, \u001b[38;5;124m\"\u001b[39m\u001b[38;5;124mfois la lettre e et contient\u001b[39m\u001b[38;5;124m\"\u001b[39m, nbMots, \u001b[38;5;124m\"\u001b[39m\u001b[38;5;124mmots.\u001b[39m\u001b[38;5;124m\"\u001b[39m)\n",
      "\u001b[1;31mAttributeError\u001b[0m: module 'Utils.words' has no attribute 'compteMots'"
     ]
    }
   ],
   "source": [
    "import Utils.words as uw\n",
    "import fonctionsChaines as fch\n",
    "\n",
    "\n",
    "print(\"saisir un texte \")\n",
    "texte = input()\n",
    "nbE = fch.occurence(texte, \"e\")\n",
    "nbMots = uw.compteMots(texte)\n",
    "print(\"Le texte saisi contient\", nbE, \"fois la lettre e et contient\", nbMots, \"mots.\") \n"
   ]
  },
  {
   "cell_type": "markdown",
   "metadata": {
    "deletable": false,
    "run_control": {
     "frozen": true
    },
    "slideshow": {
     "slide_type": "subslide"
    }
   },
   "source": [
    "## Utiliser des modules et packages qui ne sont pas dans le répertoire courant\n",
    "\n",
    "Si le module ou le package n'est pas dans le même répertoire que le script (ou notebook) qui les utilise, alors Python ne le trouve pas et cela engendre une erreur. Pour remédier à ce problème, il faut ajouter le répertoire contenant le module (ou package) dans le chemin de Python. Pour cela on utilise le package `sys` qui permet d'ajouter des nouveaux chemins :\n",
    "\n",
    "```python\n",
    "#chemin doit être une chaîne de caractères correspondant au chemin (relatif ou absolu) du répertoire \n",
    "#contenant le module ou package que l'on souhaite utiliser \n",
    "import sys\n",
    "sys.path.append(chemin)\n",
    "```\n",
    "\n",
    "Par exemple, si l'on a un répertoire contenant un fichier (module) `mod.py` et un répertoire `Programme` contenant le fichier `programme.py` et si l'on souhaite utiliser le module `mod` dans `programme.py`, alors le début de ce fichier sera : \n",
    "\n",
    "```python\n",
    "import sys\n",
    "sys.path.append(\"../\")\n",
    "from mod import *\n",
    "```"
   ]
  },
  {
   "cell_type": "markdown",
   "metadata": {
    "deletable": false,
    "run_control": {
     "frozen": true
    },
    "slideshow": {
     "slide_type": "slide"
    }
   },
   "source": [
    "## Tests unitaires avec pytest"
   ]
  },
  {
   "cell_type": "markdown",
   "metadata": {
    "deletable": false,
    "run_control": {
     "frozen": true
    },
    "slideshow": {
     "slide_type": "subslide"
    }
   },
   "source": [
    "Il est possible d'exécuter tous les tests unitaires dans un package ou un module à l'aide du programme `pytest`.\n",
    "\n",
    "La commande\n",
    "```\n",
    "pytest fichier.py\n",
    "```\n",
    "exécute toutes les fonctions commençant par `test_` qui sont définies à l'intérieur du fichier `fichier.py`. Ces fonctions doivent être des fonctions de tests unitaires utilisant la fonction `assert` (selon le modèle vu en cours).\n",
    "\n",
    "\n",
    "La commande\n",
    "```\n",
    "pytest\n",
    "```\n",
    "considère tous les fichiers à l'intérieur du répertoire courant (et des sous-répertoires) commençant par `test_`. Pour chacun de ces fichiers, le programme exécute toutes les fonctions commençant par `test_`. \n",
    "\n"
   ]
  }
 ],
 "metadata": {
  "celltoolbar": "Diaporama",
  "kernelspec": {
   "display_name": "Python 3",
   "language": "python",
   "name": "python3"
  },
  "language_info": {
   "codemirror_mode": {
    "name": "ipython",
    "version": 3
   },
   "file_extension": ".py",
   "mimetype": "text/x-python",
   "name": "python",
   "nbconvert_exporter": "python",
   "pygments_lexer": "ipython3",
   "version": "3.11.4"
  },
  "toc": {
   "base_numbering": 1,
   "nav_menu": {},
   "number_sections": false,
   "sideBar": false,
   "skip_h1_title": false,
   "title_cell": "Table of Contents",
   "title_sidebar": "Contents",
   "toc_cell": false,
   "toc_position": {},
   "toc_section_display": false,
   "toc_window_display": false
  }
 },
 "nbformat": 4,
 "nbformat_minor": 5
}
